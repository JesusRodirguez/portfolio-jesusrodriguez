{
 "cells": [
  {
   "cell_type": "code",
   "execution_count": null,
   "id": "971e5c6c",
   "metadata": {},
   "outputs": [
    {
     "ename": "",
     "evalue": "",
     "output_type": "error",
     "traceback": [
      "\u001b[1;31mRunning cells with 'Python 3.13.1' requires the ipykernel package.\n",
      "\u001b[1;31m<a href='command:jupyter.createPythonEnvAndSelectController'>Create a Python Environment</a> with the required packages."
     ]
    }
   ],
   "source": [
    "# %%\n",
    "import random\n",
    "import matplotlib.pyplot as plt\n",
    "\n",
    "# %%\n",
    "# Clase NUMERO\n",
    "class NUMERO:\n",
    "    def __init__(self, numero, numeroExponente):\n",
    "        self.numero = numero\n",
    "        self.numeroExponente = numeroExponente\n",
    "\n",
    "# %%\n",
    "# Generar números aleatorios y almacenarlos\n",
    "Numeros = []\n",
    "NumerosUsados = []\n",
    "\n",
    "for i in range(1, 501):\n",
    "    numero = random.randint(1, 501)\n",
    "    if numero in NumerosUsados:\n",
    "        continue\n",
    "\n",
    "    numeroExponente = pow(numero, 2)\n",
    "    persona = NUMERO(numero, numeroExponente)\n",
    "    Numeros.append(persona)\n",
    "    NumerosUsados.append(numero)\n",
    "\n",
    "# %%\n",
    "# Mostrar un resumen en texto\n",
    "print(\"================================================\")\n",
    "print(f\"Se generaron {len(Numeros)} números aleatorios y sus cuadrados.\")\n",
    "print(f\"Número máximo: {max(NumerosUsados)}\")\n",
    "print(f\"Número mínimo: {min(NumerosUsados)}\")\n",
    "print(\"================================================\")\n",
    "\n",
    "# %%\n",
    "# Crear el gráfico\n",
    "x = NumerosUsados\n",
    "y = [pow(num, 2) for num in NumerosUsados]\n",
    "\n",
    "plt.figure(figsize=(10, 5))\n",
    "plt.scatter(x, y, color=\"skyblue\", alpha=0.7)\n",
    "plt.title(\"Gráfico de números y su potencia al cuadrado\")\n",
    "plt.xlabel(\"Número original\")\n",
    "plt.ylabel(\"Número elevado al cuadrado\")\n",
    "plt.grid(True, linestyle='--', alpha=0.6)\n",
    "plt.show()\n"
   ]
  }
 ],
 "metadata": {
  "kernelspec": {
   "display_name": "Python 3",
   "language": "python",
   "name": "python3"
  },
  "language_info": {
   "name": "python",
   "version": "3.13.1"
  }
 },
 "nbformat": 4,
 "nbformat_minor": 5
}
